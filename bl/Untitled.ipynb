{
 "cells": [
  {
   "cell_type": "code",
   "execution_count": 1,
   "id": "47f2dc20-5365-41c5-92ef-f6bdb44fd3f8",
   "metadata": {},
   "outputs": [
    {
     "name": "stdin",
     "output_type": "stream",
     "text": [
      " 2\n",
      " 3\n",
      " 0123456\n",
      " 0012345\n",
      " 0123457\n",
      " 0123458\n",
      " 2\n",
      " 123\n",
      " 124\n",
      " 123\n"
     ]
    },
    {
     "name": "stdout",
     "output_type": "stream",
     "text": [
      "Case 1: 0123456 0123457\n",
      "Case 2: 123 124\n"
     ]
    }
   ],
   "source": [
    "def find_probable_numbers(test_cases):\n",
    "    results = []\n",
    "    for t, (N, contact_list, mommy_number) in enumerate(test_cases, 1):\n",
    "        probable_numbers = []\n",
    "        for contact in contact_list:\n",
    "            # Count differing digits\n",
    "            diff_count = sum(1 for c1, c2 in zip(contact, mommy_number) if c1 != c2)\n",
    "            if diff_count <= 1:\n",
    "                probable_numbers.append(contact)\n",
    "        # Append result for this test case\n",
    "        results.append(f\"Case {t}: \" + \" \".join(probable_numbers))\n",
    "    return results\n",
    "\n",
    "# Input Reading\n",
    "T = int(input())\n",
    "test_cases = []\n",
    "\n",
    "for _ in range(T):\n",
    "    N = int(input())\n",
    "    contact_list = [input().strip() for _ in range(N)]\n",
    "    mommy_number = input().strip()\n",
    "    test_cases.append((N, contact_list, mommy_number))\n",
    "\n",
    "# Process and Output Results\n",
    "results = find_probable_numbers(test_cases)\n",
    "for result in results:\n",
    "    print(result)"
   ]
  },
  {
   "cell_type": "code",
   "execution_count": 17,
   "id": "489c0e88-440a-4632-8122-884f44f0ac7e",
   "metadata": {},
   "outputs": [
    {
     "name": "stdin",
     "output_type": "stream",
     "text": [
      "enter a string: ed\n"
     ]
    },
    {
     "name": "stdout",
     "output_type": "stream",
     "text": [
      "reversed string: de\n"
     ]
    }
   ],
   "source": [
    "def reverse_string():\n",
    "    user_input=input(\"enter a string:\")\n",
    "    reversed_string=\"\"\n",
    "    \n",
    "    for char in user_input:\n",
    "        reversed_string=char + reversed_string\n",
    "    print(\"reversed string:\", reversed_string)\n",
    "reverse_string()\n",
    "    "
   ]
  },
  {
   "cell_type": "code",
   "execution_count": null,
   "id": "31b84a7b-8128-40e7-a777-40070e7cf551",
   "metadata": {},
   "outputs": [],
   "source": []
  }
 ],
 "metadata": {
  "kernelspec": {
   "display_name": "Python 3 (ipykernel)",
   "language": "python",
   "name": "python3"
  },
  "language_info": {
   "codemirror_mode": {
    "name": "ipython",
    "version": 3
   },
   "file_extension": ".py",
   "mimetype": "text/x-python",
   "name": "python",
   "nbconvert_exporter": "python",
   "pygments_lexer": "ipython3",
   "version": "3.12.4"
  }
 },
 "nbformat": 4,
 "nbformat_minor": 5
}
